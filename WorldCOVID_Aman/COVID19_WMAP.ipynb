{
 "cells": [
  {
   "cell_type": "code",
   "execution_count": 50,
   "metadata": {},
   "outputs": [],
   "source": [
    "import numpy as np\n",
    "import pandas as pd\n",
    "import matplotlib.pyplot as plt\n",
    "import geopandas as gpd\n",
    "import os\n",
    "from mpl_toolkits.axes_grid1 import make_axes_locatable\n",
    "import subprocess as sp\n",
    "from shapely import wkt\n",
    "import seaborn as sns\n",
    "sns.set()\n",
    "import requests\n",
    "import json\n",
    "import pymongo\n",
    "import psycopg2"
   ]
  },
  {
   "cell_type": "code",
   "execution_count": null,
   "metadata": {},
   "outputs": [],
   "source": []
  },
  {
   "cell_type": "code",
   "execution_count": null,
   "metadata": {},
   "outputs": [],
   "source": []
  },
  {
   "cell_type": "markdown",
   "metadata": {},
   "source": [
    "## ---------------------------------------------------------------------------------------\n",
    "## Calling API to request the data\n",
    "## ---------------------------------------------------------------------------------------"
   ]
  },
  {
   "cell_type": "code",
   "execution_count": 17,
   "metadata": {},
   "outputs": [],
   "source": [
    "host_ip = '52.213.189.70'\n",
    "MongoClient = pymongo.MongoClient(host_ip, 27017)"
   ]
  },
  {
   "cell_type": "code",
   "execution_count": 28,
   "metadata": {},
   "outputs": [
    {
     "name": "stdout",
     "output_type": "stream",
     "text": [
      "Available Databases: \n",
      "['Covid', 'Reddit', 'StockMarket', 'Twitter', 'admin', 'config', 'local']\n",
      "\n",
      "Available Collections\n",
      "['covidcollection']\n"
     ]
    }
   ],
   "source": [
    "dbList = MongoClient.list_database_names()\n",
    "print(\"Available Databases: \")\n",
    "print(dbList)\n",
    "print()\n",
    "\n",
    "covid = MongoClient[\"Covid\"]\n",
    "covid_collections = covid.list_collection_names()\n",
    "print(\"Available Collections\")\n",
    "print(covid_collections)"
   ]
  },
  {
   "cell_type": "code",
   "execution_count": 25,
   "metadata": {},
   "outputs": [],
   "source": [
    "covidcoll = covid[\"covidcollection\"]"
   ]
  },
  {
   "cell_type": "code",
   "execution_count": 26,
   "metadata": {},
   "outputs": [
    {
     "data": {
      "text/plain": [
       "'with open(\\'2nd/covid19.json\\', \\'w\\', encoding=\\'utf-8\\') as f:\\n    json.dump(data, f, ensure_ascii=False, indent=4)\\n    \\ndata2 = pd.read_json(\\'2nd/covid19.json\\')\\ndata2.to_csv(\"2nd/covid19.csv\", index=False)'"
      ]
     },
     "execution_count": 26,
     "metadata": {},
     "output_type": "execute_result"
    }
   ],
   "source": [
    "url = \"https://api.covid19api.com/all?from=2020-04-20T00:00:00Z&to=2020-04-20T00:00:00Z\"\n",
    "\n",
    "payload = {}\n",
    "headers= {}\n",
    "\n",
    "response = requests.request(\"GET\", url, headers=headers, data = payload)\n",
    "\n",
    "data = response.json()"
   ]
  },
  {
   "cell_type": "code",
   "execution_count": 23,
   "metadata": {},
   "outputs": [],
   "source": [
    "#covidcoll.delete_many({})\n",
    "#covidcoll.drop()"
   ]
  },
  {
   "cell_type": "code",
   "execution_count": 20,
   "metadata": {},
   "outputs": [],
   "source": [
    "#for i in covidcoll.find(): print(i)"
   ]
  },
  {
   "cell_type": "code",
   "execution_count": 27,
   "metadata": {},
   "outputs": [],
   "source": [
    "# Data insertion to Mongodb\n",
    "\n",
    "for eachdata in data:\n",
    "    try:\n",
    "        covidcoll.insert_one(eachdata)\n",
    "    except:\n",
    "        print(\"Error: \", eachdata)\n"
   ]
  },
  {
   "cell_type": "code",
   "execution_count": 34,
   "metadata": {},
   "outputs": [],
   "source": [
    "corona_df = []\n",
    "cursor = covidcoll.find({})\n",
    "for document in cursor:\n",
    "      corona_df.append(document)\n",
    "\n",
    "corona_df = pd.DataFrame(corona_df)"
   ]
  },
  {
   "cell_type": "code",
   "execution_count": 41,
   "metadata": {},
   "outputs": [
    {
     "data": {
      "text/html": [
       "<div>\n",
       "<style scoped>\n",
       "    .dataframe tbody tr th:only-of-type {\n",
       "        vertical-align: middle;\n",
       "    }\n",
       "\n",
       "    .dataframe tbody tr th {\n",
       "        vertical-align: top;\n",
       "    }\n",
       "\n",
       "    .dataframe thead th {\n",
       "        text-align: right;\n",
       "    }\n",
       "</style>\n",
       "<table border=\"1\" class=\"dataframe\">\n",
       "  <thead>\n",
       "    <tr style=\"text-align: right;\">\n",
       "      <th></th>\n",
       "      <th>Country</th>\n",
       "      <th>CountryCode</th>\n",
       "      <th>Province</th>\n",
       "      <th>City</th>\n",
       "      <th>CityCode</th>\n",
       "      <th>Lat</th>\n",
       "      <th>Lon</th>\n",
       "      <th>Confirmed</th>\n",
       "      <th>Deaths</th>\n",
       "      <th>Recovered</th>\n",
       "      <th>Active</th>\n",
       "      <th>Date</th>\n",
       "    </tr>\n",
       "  </thead>\n",
       "  <tbody>\n",
       "    <tr>\n",
       "      <td>0</td>\n",
       "      <td>Afghanistan</td>\n",
       "      <td>AF</td>\n",
       "      <td></td>\n",
       "      <td></td>\n",
       "      <td></td>\n",
       "      <td>33.94</td>\n",
       "      <td>67.71</td>\n",
       "      <td>0</td>\n",
       "      <td>0</td>\n",
       "      <td>0</td>\n",
       "      <td>0</td>\n",
       "      <td>2020-01-22T00:00:00Z</td>\n",
       "    </tr>\n",
       "    <tr>\n",
       "      <td>1</td>\n",
       "      <td>Afghanistan</td>\n",
       "      <td>AF</td>\n",
       "      <td></td>\n",
       "      <td></td>\n",
       "      <td></td>\n",
       "      <td>33.94</td>\n",
       "      <td>67.71</td>\n",
       "      <td>0</td>\n",
       "      <td>0</td>\n",
       "      <td>0</td>\n",
       "      <td>0</td>\n",
       "      <td>2020-01-23T00:00:00Z</td>\n",
       "    </tr>\n",
       "    <tr>\n",
       "      <td>2</td>\n",
       "      <td>Afghanistan</td>\n",
       "      <td>AF</td>\n",
       "      <td></td>\n",
       "      <td></td>\n",
       "      <td></td>\n",
       "      <td>33.94</td>\n",
       "      <td>67.71</td>\n",
       "      <td>0</td>\n",
       "      <td>0</td>\n",
       "      <td>0</td>\n",
       "      <td>0</td>\n",
       "      <td>2020-01-24T00:00:00Z</td>\n",
       "    </tr>\n",
       "    <tr>\n",
       "      <td>3</td>\n",
       "      <td>Afghanistan</td>\n",
       "      <td>AF</td>\n",
       "      <td></td>\n",
       "      <td></td>\n",
       "      <td></td>\n",
       "      <td>33.94</td>\n",
       "      <td>67.71</td>\n",
       "      <td>0</td>\n",
       "      <td>0</td>\n",
       "      <td>0</td>\n",
       "      <td>0</td>\n",
       "      <td>2020-01-25T00:00:00Z</td>\n",
       "    </tr>\n",
       "    <tr>\n",
       "      <td>4</td>\n",
       "      <td>Afghanistan</td>\n",
       "      <td>AF</td>\n",
       "      <td></td>\n",
       "      <td></td>\n",
       "      <td></td>\n",
       "      <td>33.94</td>\n",
       "      <td>67.71</td>\n",
       "      <td>0</td>\n",
       "      <td>0</td>\n",
       "      <td>0</td>\n",
       "      <td>0</td>\n",
       "      <td>2020-01-26T00:00:00Z</td>\n",
       "    </tr>\n",
       "  </tbody>\n",
       "</table>\n",
       "</div>"
      ],
      "text/plain": [
       "       Country CountryCode Province City CityCode    Lat    Lon  Confirmed  \\\n",
       "0  Afghanistan          AF                         33.94  67.71          0   \n",
       "1  Afghanistan          AF                         33.94  67.71          0   \n",
       "2  Afghanistan          AF                         33.94  67.71          0   \n",
       "3  Afghanistan          AF                         33.94  67.71          0   \n",
       "4  Afghanistan          AF                         33.94  67.71          0   \n",
       "\n",
       "   Deaths  Recovered  Active                  Date  \n",
       "0       0          0       0  2020-01-22T00:00:00Z  \n",
       "1       0          0       0  2020-01-23T00:00:00Z  \n",
       "2       0          0       0  2020-01-24T00:00:00Z  \n",
       "3       0          0       0  2020-01-25T00:00:00Z  \n",
       "4       0          0       0  2020-01-26T00:00:00Z  "
      ]
     },
     "execution_count": 41,
     "metadata": {},
     "output_type": "execute_result"
    }
   ],
   "source": [
    "corona_df.drop('_id', axis=1, inplace=True)\n",
    "\n",
    "corona_df.head()"
   ]
  },
  {
   "cell_type": "code",
   "execution_count": null,
   "metadata": {},
   "outputs": [],
   "source": []
  },
  {
   "cell_type": "code",
   "execution_count": null,
   "metadata": {},
   "outputs": [],
   "source": []
  },
  {
   "cell_type": "code",
   "execution_count": null,
   "metadata": {},
   "outputs": [],
   "source": []
  },
  {
   "cell_type": "markdown",
   "metadata": {},
   "source": [
    "## ---------------------------------------------------------------------------------------\n",
    "## Cleaning the Coronavirus dataframe\n",
    "## ---------------------------------------------------------------------------------------"
   ]
  },
  {
   "cell_type": "code",
   "execution_count": 3,
   "metadata": {},
   "outputs": [
    {
     "data": {
      "text/html": [
       "<div>\n",
       "<style scoped>\n",
       "    .dataframe tbody tr th:only-of-type {\n",
       "        vertical-align: middle;\n",
       "    }\n",
       "\n",
       "    .dataframe tbody tr th {\n",
       "        vertical-align: top;\n",
       "    }\n",
       "\n",
       "    .dataframe thead th {\n",
       "        text-align: right;\n",
       "    }\n",
       "</style>\n",
       "<table border=\"1\" class=\"dataframe\">\n",
       "  <thead>\n",
       "    <tr style=\"text-align: right;\">\n",
       "      <th></th>\n",
       "      <th>Country</th>\n",
       "      <th>Confirmed</th>\n",
       "      <th>Deaths</th>\n",
       "      <th>Recovered</th>\n",
       "      <th>Active</th>\n",
       "      <th>Date</th>\n",
       "    </tr>\n",
       "  </thead>\n",
       "  <tbody>\n",
       "    <tr>\n",
       "      <th>0</th>\n",
       "      <td>Afghanistan</td>\n",
       "      <td>0</td>\n",
       "      <td>0</td>\n",
       "      <td>0</td>\n",
       "      <td>0</td>\n",
       "      <td>2020-01-22</td>\n",
       "    </tr>\n",
       "    <tr>\n",
       "      <th>1</th>\n",
       "      <td>Afghanistan</td>\n",
       "      <td>0</td>\n",
       "      <td>0</td>\n",
       "      <td>0</td>\n",
       "      <td>0</td>\n",
       "      <td>2020-01-23</td>\n",
       "    </tr>\n",
       "    <tr>\n",
       "      <th>2</th>\n",
       "      <td>Afghanistan</td>\n",
       "      <td>0</td>\n",
       "      <td>0</td>\n",
       "      <td>0</td>\n",
       "      <td>0</td>\n",
       "      <td>2020-01-24</td>\n",
       "    </tr>\n",
       "    <tr>\n",
       "      <th>3</th>\n",
       "      <td>Afghanistan</td>\n",
       "      <td>0</td>\n",
       "      <td>0</td>\n",
       "      <td>0</td>\n",
       "      <td>0</td>\n",
       "      <td>2020-01-25</td>\n",
       "    </tr>\n",
       "    <tr>\n",
       "      <th>4</th>\n",
       "      <td>Afghanistan</td>\n",
       "      <td>0</td>\n",
       "      <td>0</td>\n",
       "      <td>0</td>\n",
       "      <td>0</td>\n",
       "      <td>2020-01-26</td>\n",
       "    </tr>\n",
       "  </tbody>\n",
       "</table>\n",
       "</div>"
      ],
      "text/plain": [
       "       Country  Confirmed  Deaths  Recovered  Active       Date\n",
       "0  Afghanistan          0       0          0       0 2020-01-22\n",
       "1  Afghanistan          0       0          0       0 2020-01-23\n",
       "2  Afghanistan          0       0          0       0 2020-01-24\n",
       "3  Afghanistan          0       0          0       0 2020-01-25\n",
       "4  Afghanistan          0       0          0       0 2020-01-26"
      ]
     },
     "execution_count": 3,
     "metadata": {},
     "output_type": "execute_result"
    }
   ],
   "source": [
    "# Dropping columns that are not needed\n",
    "corona_df.drop(['Province', 'City', 'CityCode', 'Lat', 'Lon', 'CountryCode'], axis=1, inplace=True)\n",
    "\n",
    "# Converting the Date column from float to datetime data-type\n",
    "corona_df['Date'] =  pd.to_datetime(corona_df['Date'])\n",
    "corona_df.Date = corona_df.Date.dt.date\n",
    "corona_df['Date'] =  pd.to_datetime(corona_df['Date'])\n",
    "corona_df.head()"
   ]
  },
  {
   "cell_type": "code",
   "execution_count": 4,
   "metadata": {},
   "outputs": [
    {
     "name": "stdout",
     "output_type": "stream",
     "text": [
      "<class 'pandas.core.frame.DataFrame'>\n",
      "RangeIndex: 319683 entries, 0 to 319682\n",
      "Data columns (total 6 columns):\n",
      "Country      319683 non-null object\n",
      "Confirmed    319683 non-null int64\n",
      "Deaths       319683 non-null int64\n",
      "Recovered    319683 non-null int64\n",
      "Active       319683 non-null int64\n",
      "Date         319683 non-null datetime64[ns]\n",
      "dtypes: datetime64[ns](1), int64(4), object(1)\n",
      "memory usage: 14.6+ MB\n"
     ]
    }
   ],
   "source": [
    "corona_df.info()"
   ]
  },
  {
   "cell_type": "code",
   "execution_count": 5,
   "metadata": {},
   "outputs": [],
   "source": [
    "# Some countries, such as China, are split into different provinces/states. \n",
    "# Since we just want the total number of cases per country, we get the sum for each country at each date:\n",
    "sum_df = corona_df.groupby(['Country', 'Date'], as_index=False).sum()"
   ]
  },
  {
   "cell_type": "code",
   "execution_count": 6,
   "metadata": {},
   "outputs": [
    {
     "data": {
      "text/html": [
       "<div>\n",
       "<style scoped>\n",
       "    .dataframe tbody tr th:only-of-type {\n",
       "        vertical-align: middle;\n",
       "    }\n",
       "\n",
       "    .dataframe tbody tr th {\n",
       "        vertical-align: top;\n",
       "    }\n",
       "\n",
       "    .dataframe thead th {\n",
       "        text-align: right;\n",
       "    }\n",
       "</style>\n",
       "<table border=\"1\" class=\"dataframe\">\n",
       "  <thead>\n",
       "    <tr style=\"text-align: right;\">\n",
       "      <th></th>\n",
       "      <th>Country</th>\n",
       "      <th>Date</th>\n",
       "      <th>Confirmed</th>\n",
       "      <th>Deaths</th>\n",
       "      <th>Recovered</th>\n",
       "      <th>Active</th>\n",
       "    </tr>\n",
       "  </thead>\n",
       "  <tbody>\n",
       "    <tr>\n",
       "      <th>0</th>\n",
       "      <td>Afghanistan</td>\n",
       "      <td>2020-01-22</td>\n",
       "      <td>0</td>\n",
       "      <td>0</td>\n",
       "      <td>0</td>\n",
       "      <td>0</td>\n",
       "    </tr>\n",
       "    <tr>\n",
       "      <th>1</th>\n",
       "      <td>Afghanistan</td>\n",
       "      <td>2020-01-23</td>\n",
       "      <td>0</td>\n",
       "      <td>0</td>\n",
       "      <td>0</td>\n",
       "      <td>0</td>\n",
       "    </tr>\n",
       "    <tr>\n",
       "      <th>2</th>\n",
       "      <td>Afghanistan</td>\n",
       "      <td>2020-01-24</td>\n",
       "      <td>0</td>\n",
       "      <td>0</td>\n",
       "      <td>0</td>\n",
       "      <td>0</td>\n",
       "    </tr>\n",
       "    <tr>\n",
       "      <th>3</th>\n",
       "      <td>Afghanistan</td>\n",
       "      <td>2020-01-25</td>\n",
       "      <td>0</td>\n",
       "      <td>0</td>\n",
       "      <td>0</td>\n",
       "      <td>0</td>\n",
       "    </tr>\n",
       "    <tr>\n",
       "      <th>4</th>\n",
       "      <td>Afghanistan</td>\n",
       "      <td>2020-01-26</td>\n",
       "      <td>0</td>\n",
       "      <td>0</td>\n",
       "      <td>0</td>\n",
       "      <td>0</td>\n",
       "    </tr>\n",
       "  </tbody>\n",
       "</table>\n",
       "</div>"
      ],
      "text/plain": [
       "       Country       Date  Confirmed  Deaths  Recovered  Active\n",
       "0  Afghanistan 2020-01-22          0       0          0       0\n",
       "1  Afghanistan 2020-01-23          0       0          0       0\n",
       "2  Afghanistan 2020-01-24          0       0          0       0\n",
       "3  Afghanistan 2020-01-25          0       0          0       0\n",
       "4  Afghanistan 2020-01-26          0       0          0       0"
      ]
     },
     "execution_count": 6,
     "metadata": {},
     "output_type": "execute_result"
    }
   ],
   "source": [
    "sum_df.head()"
   ]
  },
  {
   "cell_type": "code",
   "execution_count": 7,
   "metadata": {},
   "outputs": [
    {
     "name": "stdout",
     "output_type": "stream",
     "text": [
      "<class 'pandas.core.frame.DataFrame'>\n",
      "Int64Index: 16653 entries, 0 to 16652\n",
      "Data columns (total 6 columns):\n",
      "Country      16653 non-null object\n",
      "Date         16653 non-null datetime64[ns]\n",
      "Confirmed    16653 non-null int64\n",
      "Deaths       16653 non-null int64\n",
      "Recovered    16653 non-null int64\n",
      "Active       16653 non-null int64\n",
      "dtypes: datetime64[ns](1), int64(4), object(1)\n",
      "memory usage: 910.7+ KB\n"
     ]
    }
   ],
   "source": [
    "sum_df.info()"
   ]
  },
  {
   "cell_type": "code",
   "execution_count": null,
   "metadata": {},
   "outputs": [],
   "source": []
  },
  {
   "cell_type": "code",
   "execution_count": null,
   "metadata": {},
   "outputs": [],
   "source": []
  },
  {
   "cell_type": "code",
   "execution_count": null,
   "metadata": {},
   "outputs": [],
   "source": []
  },
  {
   "cell_type": "markdown",
   "metadata": {},
   "source": [
    "## ---------------------------------------------------------------------------------------\n",
    "## Extracting the Dates\n",
    "## ---------------------------------------------------------------------------------------"
   ]
  },
  {
   "cell_type": "code",
   "execution_count": 9,
   "metadata": {},
   "outputs": [],
   "source": [
    "# Extracting the date column from the dataframe\n",
    "# This will come in handy later when merging dataframes on the date column, and when looping over the date to plot the map\n",
    "\n",
    "date_list = pd.DataFrame(sum_df.Date.unique())\n",
    "date_list.rename(columns = {0:'Date'}, inplace = True)\n",
    "date_list = date_list.loc[date_list.Date <= '2020-04-13']\n",
    "date_list.reset_index(drop=True, inplace=True)\n",
    "date_list.to_csv('date_list.csv', encoding='utf-8', index=False)"
   ]
  },
  {
   "cell_type": "code",
   "execution_count": null,
   "metadata": {},
   "outputs": [],
   "source": []
  },
  {
   "cell_type": "code",
   "execution_count": null,
   "metadata": {},
   "outputs": [],
   "source": []
  },
  {
   "cell_type": "code",
   "execution_count": null,
   "metadata": {},
   "outputs": [],
   "source": []
  },
  {
   "cell_type": "markdown",
   "metadata": {},
   "source": [
    "## ---------------------------------------------------------------------------------------\n",
    "## Reading and cleaning the shape file\n",
    "## ---------------------------------------------------------------------------------------"
   ]
  },
  {
   "cell_type": "code",
   "execution_count": 12,
   "metadata": {},
   "outputs": [],
   "source": [
    "# Shape file for plotting world maps\n",
    "shape_file = gpd.read_file('shape_files/Countries_WGS84.shp')"
   ]
  },
  {
   "cell_type": "code",
   "execution_count": 13,
   "metadata": {},
   "outputs": [
    {
     "data": {
      "text/html": [
       "<div>\n",
       "<style scoped>\n",
       "    .dataframe tbody tr th:only-of-type {\n",
       "        vertical-align: middle;\n",
       "    }\n",
       "\n",
       "    .dataframe tbody tr th {\n",
       "        vertical-align: top;\n",
       "    }\n",
       "\n",
       "    .dataframe thead th {\n",
       "        text-align: right;\n",
       "    }\n",
       "</style>\n",
       "<table border=\"1\" class=\"dataframe\">\n",
       "  <thead>\n",
       "    <tr style=\"text-align: right;\">\n",
       "      <th></th>\n",
       "      <th>OBJECTID</th>\n",
       "      <th>CNTRY_NAME</th>\n",
       "      <th>geometry</th>\n",
       "    </tr>\n",
       "  </thead>\n",
       "  <tbody>\n",
       "    <tr>\n",
       "      <th>0</th>\n",
       "      <td>1</td>\n",
       "      <td>Aruba</td>\n",
       "      <td>POLYGON ((-69.88223 12.41111, -69.94695 12.436...</td>\n",
       "    </tr>\n",
       "    <tr>\n",
       "      <th>1</th>\n",
       "      <td>2</td>\n",
       "      <td>Antigua and Barbuda</td>\n",
       "      <td>MULTIPOLYGON (((-61.73889 17.54055, -61.75195 ...</td>\n",
       "    </tr>\n",
       "    <tr>\n",
       "      <th>2</th>\n",
       "      <td>3</td>\n",
       "      <td>Afghanistan</td>\n",
       "      <td>POLYGON ((61.27656 35.60725, 61.29638 35.62853...</td>\n",
       "    </tr>\n",
       "    <tr>\n",
       "      <th>3</th>\n",
       "      <td>4</td>\n",
       "      <td>Algeria</td>\n",
       "      <td>POLYGON ((-5.15213 30.18047, -5.13917 30.19236...</td>\n",
       "    </tr>\n",
       "    <tr>\n",
       "      <th>4</th>\n",
       "      <td>5</td>\n",
       "      <td>Azerbaijan</td>\n",
       "      <td>MULTIPOLYGON (((45.02583 41.03055, 45.00999 41...</td>\n",
       "    </tr>\n",
       "  </tbody>\n",
       "</table>\n",
       "</div>"
      ],
      "text/plain": [
       "   OBJECTID           CNTRY_NAME  \\\n",
       "0         1                Aruba   \n",
       "1         2  Antigua and Barbuda   \n",
       "2         3          Afghanistan   \n",
       "3         4              Algeria   \n",
       "4         5           Azerbaijan   \n",
       "\n",
       "                                            geometry  \n",
       "0  POLYGON ((-69.88223 12.41111, -69.94695 12.436...  \n",
       "1  MULTIPOLYGON (((-61.73889 17.54055, -61.75195 ...  \n",
       "2  POLYGON ((61.27656 35.60725, 61.29638 35.62853...  \n",
       "3  POLYGON ((-5.15213 30.18047, -5.13917 30.19236...  \n",
       "4  MULTIPOLYGON (((45.02583 41.03055, 45.00999 41...  "
      ]
     },
     "execution_count": 13,
     "metadata": {},
     "output_type": "execute_result"
    }
   ],
   "source": [
    "shape_file.head()"
   ]
  },
  {
   "cell_type": "code",
   "execution_count": 14,
   "metadata": {},
   "outputs": [],
   "source": [
    "# Dropping columns that are not needed\n",
    "shape_file.drop('OBJECTID', axis=1, inplace=True)\n",
    "\n",
    "# Renaming columns\n",
    "shape_file.rename(columns = {'CNTRY_NAME':'Country'},\n",
    "               inplace = True)"
   ]
  },
  {
   "cell_type": "code",
   "execution_count": 15,
   "metadata": {},
   "outputs": [
    {
     "data": {
      "text/html": [
       "<div>\n",
       "<style scoped>\n",
       "    .dataframe tbody tr th:only-of-type {\n",
       "        vertical-align: middle;\n",
       "    }\n",
       "\n",
       "    .dataframe tbody tr th {\n",
       "        vertical-align: top;\n",
       "    }\n",
       "\n",
       "    .dataframe thead th {\n",
       "        text-align: right;\n",
       "    }\n",
       "</style>\n",
       "<table border=\"1\" class=\"dataframe\">\n",
       "  <thead>\n",
       "    <tr style=\"text-align: right;\">\n",
       "      <th></th>\n",
       "      <th>Country</th>\n",
       "      <th>geometry</th>\n",
       "    </tr>\n",
       "  </thead>\n",
       "  <tbody>\n",
       "    <tr>\n",
       "      <th>0</th>\n",
       "      <td>Aruba</td>\n",
       "      <td>POLYGON ((-69.88223 12.41111, -69.94695 12.436...</td>\n",
       "    </tr>\n",
       "    <tr>\n",
       "      <th>1</th>\n",
       "      <td>Antigua and Barbuda</td>\n",
       "      <td>MULTIPOLYGON (((-61.73889 17.54055, -61.75195 ...</td>\n",
       "    </tr>\n",
       "    <tr>\n",
       "      <th>2</th>\n",
       "      <td>Afghanistan</td>\n",
       "      <td>POLYGON ((61.27656 35.60725, 61.29638 35.62853...</td>\n",
       "    </tr>\n",
       "    <tr>\n",
       "      <th>3</th>\n",
       "      <td>Algeria</td>\n",
       "      <td>POLYGON ((-5.15213 30.18047, -5.13917 30.19236...</td>\n",
       "    </tr>\n",
       "    <tr>\n",
       "      <th>4</th>\n",
       "      <td>Azerbaijan</td>\n",
       "      <td>MULTIPOLYGON (((45.02583 41.03055, 45.00999 41...</td>\n",
       "    </tr>\n",
       "  </tbody>\n",
       "</table>\n",
       "</div>"
      ],
      "text/plain": [
       "               Country                                           geometry\n",
       "0                Aruba  POLYGON ((-69.88223 12.41111, -69.94695 12.436...\n",
       "1  Antigua and Barbuda  MULTIPOLYGON (((-61.73889 17.54055, -61.75195 ...\n",
       "2          Afghanistan  POLYGON ((61.27656 35.60725, 61.29638 35.62853...\n",
       "3              Algeria  POLYGON ((-5.15213 30.18047, -5.13917 30.19236...\n",
       "4           Azerbaijan  MULTIPOLYGON (((45.02583 41.03055, 45.00999 41..."
      ]
     },
     "execution_count": 15,
     "metadata": {},
     "output_type": "execute_result"
    }
   ],
   "source": [
    "shape_file.head()"
   ]
  },
  {
   "cell_type": "code",
   "execution_count": 16,
   "metadata": {},
   "outputs": [
    {
     "name": "stdout",
     "output_type": "stream",
     "text": [
      "<class 'geopandas.geodataframe.GeoDataFrame'>\n",
      "RangeIndex: 251 entries, 0 to 250\n",
      "Data columns (total 2 columns):\n",
      "Country     251 non-null object\n",
      "geometry    251 non-null geometry\n",
      "dtypes: geometry(1), object(1)\n",
      "memory usage: 4.0+ KB\n"
     ]
    }
   ],
   "source": [
    "shape_file.info()"
   ]
  },
  {
   "cell_type": "code",
   "execution_count": null,
   "metadata": {},
   "outputs": [],
   "source": []
  },
  {
   "cell_type": "code",
   "execution_count": null,
   "metadata": {},
   "outputs": [],
   "source": []
  },
  {
   "cell_type": "code",
   "execution_count": null,
   "metadata": {},
   "outputs": [],
   "source": []
  },
  {
   "cell_type": "markdown",
   "metadata": {},
   "source": [
    "## ---------------------------------------------------------------------------------------\n",
    "## Comparing and renaming the country names in Coronavirus dataframe\n",
    "## ---------------------------------------------------------------------------------------"
   ]
  },
  {
   "cell_type": "code",
   "execution_count": 17,
   "metadata": {},
   "outputs": [],
   "source": [
    "# Making the country names match between the dataframe and the shapefile\n",
    "\n",
    "\n",
    "sum_df = sum_df.replace({'Country' : 'Bahamas'}, 'Bahamas, The')\n",
    "sum_df = sum_df.replace({'Country' : 'Belarus'}, 'Byelarus')\n",
    "sum_df = sum_df.replace({'Country' : 'Brunei Darussalam'}, 'Brunei')\n",
    "sum_df = sum_df.replace({'Country' : 'Congo (Kinshasa)'}, 'Congo')\n",
    "sum_df = sum_df.replace({'Country' : 'Gambia'}, 'Gambia, The')\n",
    "sum_df = sum_df.replace({'Country' : 'Iran, Islamic Republic of'}, 'Iran')\n",
    "sum_df = sum_df.replace({'Country' : 'Korea (South)'}, 'South Korea')\n",
    "sum_df = sum_df.replace({'Country' : 'Lao PDR'}, 'Laos')\n",
    "sum_df = sum_df.replace({'Country' : 'Macedonia, Republic of'}, 'Macedonia')\n",
    "sum_df = sum_df.replace({'Country' : 'Myanmar'}, 'Myanmar (Burma)')\n",
    "sum_df = sum_df.replace({'Country' : 'Russian Federation'}, 'Russia')\n",
    "sum_df = sum_df.replace({'Country' : 'Saint Kitts and Nevis'}, 'St. Kitts and Nevis')\n",
    "sum_df = sum_df.replace({'Country' : 'Saint Lucia'}, 'St. Lucia')\n",
    "sum_df = sum_df.replace({'Country' : 'Saint Vincent and Grenadines'}, 'St. Vincent and Grenadines')\n",
    "sum_df = sum_df.replace({'Country' : 'Syrian Arab Republic (Syria)'}, 'Syria')\n",
    "sum_df = sum_df.replace({'Country' : 'Taiwan, Republic of China'}, 'Taiwan')\n",
    "sum_df = sum_df.replace({'Country' : 'United States of America'}, 'United States')\n",
    "sum_df = sum_df.replace({'Country' : 'Venexuela (Bolivarian Republic)'}, 'Venezuela')\n",
    "sum_df = sum_df.replace({'Country' : 'Viet Nam'}, 'Vietnam')"
   ]
  },
  {
   "cell_type": "code",
   "execution_count": null,
   "metadata": {},
   "outputs": [],
   "source": []
  },
  {
   "cell_type": "code",
   "execution_count": null,
   "metadata": {},
   "outputs": [],
   "source": []
  },
  {
   "cell_type": "code",
   "execution_count": null,
   "metadata": {},
   "outputs": [],
   "source": []
  },
  {
   "cell_type": "markdown",
   "metadata": {},
   "source": [
    "## ---------------------------------------------------------------------------------------\n",
    "## Extracting the country names\n",
    "## ---------------------------------------------------------------------------------------"
   ]
  },
  {
   "cell_type": "code",
   "execution_count": 18,
   "metadata": {},
   "outputs": [],
   "source": [
    "# Extracting the country column from the dataframe\n",
    "# This will come in handy later when merging dataframes on the country column\n",
    "\n",
    "country_list = pd.DataFrame(shape_file.Country.unique())\n",
    "country_list.rename(columns = {0:'Country'}, inplace = True) \n",
    "country_list.to_csv('country_list.csv', encoding='utf-8', index=False)"
   ]
  },
  {
   "cell_type": "code",
   "execution_count": null,
   "metadata": {},
   "outputs": [],
   "source": []
  },
  {
   "cell_type": "code",
   "execution_count": null,
   "metadata": {},
   "outputs": [],
   "source": []
  },
  {
   "cell_type": "code",
   "execution_count": null,
   "metadata": {},
   "outputs": [],
   "source": []
  },
  {
   "cell_type": "markdown",
   "metadata": {},
   "source": [
    "## ---------------------------------------------------------------------------------------------\n",
    "## Merging the Dates and Countries to form one single dataframe with all Countries and all Dates\n",
    "## ---------------------------------------------------------------------------------------------"
   ]
  },
  {
   "cell_type": "code",
   "execution_count": 19,
   "metadata": {},
   "outputs": [],
   "source": [
    "# Merging the date and country dataframes such that the date from January to April is available for EACH country\n",
    "\n",
    "def cartesian_product_simplified(left, right):\n",
    "    la, lb = len(left), len(right)\n",
    "    ia2, ib2 = np.broadcast_arrays(*np.ogrid[:la,:lb])\n",
    "\n",
    "    return pd.DataFrame(\n",
    "        np.column_stack([left.values[ia2.ravel()], right.values[ib2.ravel()]]))\n",
    "\n",
    "country_date_list = cartesian_product_simplified(country_list, date_list)"
   ]
  },
  {
   "cell_type": "code",
   "execution_count": 20,
   "metadata": {},
   "outputs": [
    {
     "name": "stdout",
     "output_type": "stream",
     "text": [
      "<class 'pandas.core.frame.DataFrame'>\n",
      "RangeIndex: 20833 entries, 0 to 20832\n",
      "Data columns (total 2 columns):\n",
      "0    20833 non-null object\n",
      "1    20833 non-null object\n",
      "dtypes: object(2)\n",
      "memory usage: 325.6+ KB\n"
     ]
    }
   ],
   "source": [
    "country_date_list.info()"
   ]
  },
  {
   "cell_type": "code",
   "execution_count": 21,
   "metadata": {},
   "outputs": [],
   "source": [
    "# Renaming Columns\n",
    "country_date_list.rename(columns = {0:'Country', 1:'Date'},\n",
    "                          inplace = True)  "
   ]
  },
  {
   "cell_type": "code",
   "execution_count": 22,
   "metadata": {},
   "outputs": [
    {
     "name": "stdout",
     "output_type": "stream",
     "text": [
      "<class 'pandas.core.frame.DataFrame'>\n",
      "RangeIndex: 20833 entries, 0 to 20832\n",
      "Data columns (total 2 columns):\n",
      "Country    20833 non-null object\n",
      "Date       20833 non-null object\n",
      "dtypes: object(2)\n",
      "memory usage: 325.6+ KB\n"
     ]
    }
   ],
   "source": [
    "country_date_list.info()"
   ]
  },
  {
   "cell_type": "code",
   "execution_count": 23,
   "metadata": {},
   "outputs": [],
   "source": [
    "# Coverting from float to datetime\n",
    "country_date_list['Date'] = pd.to_datetime(country_date_list['Date'])"
   ]
  },
  {
   "cell_type": "code",
   "execution_count": 24,
   "metadata": {},
   "outputs": [
    {
     "data": {
      "text/html": [
       "<div>\n",
       "<style scoped>\n",
       "    .dataframe tbody tr th:only-of-type {\n",
       "        vertical-align: middle;\n",
       "    }\n",
       "\n",
       "    .dataframe tbody tr th {\n",
       "        vertical-align: top;\n",
       "    }\n",
       "\n",
       "    .dataframe thead th {\n",
       "        text-align: right;\n",
       "    }\n",
       "</style>\n",
       "<table border=\"1\" class=\"dataframe\">\n",
       "  <thead>\n",
       "    <tr style=\"text-align: right;\">\n",
       "      <th></th>\n",
       "      <th>Country</th>\n",
       "      <th>Date</th>\n",
       "    </tr>\n",
       "  </thead>\n",
       "  <tbody>\n",
       "    <tr>\n",
       "      <th>0</th>\n",
       "      <td>Aruba</td>\n",
       "      <td>2020-01-22</td>\n",
       "    </tr>\n",
       "    <tr>\n",
       "      <th>1</th>\n",
       "      <td>Aruba</td>\n",
       "      <td>2020-01-23</td>\n",
       "    </tr>\n",
       "    <tr>\n",
       "      <th>2</th>\n",
       "      <td>Aruba</td>\n",
       "      <td>2020-01-24</td>\n",
       "    </tr>\n",
       "    <tr>\n",
       "      <th>3</th>\n",
       "      <td>Aruba</td>\n",
       "      <td>2020-01-25</td>\n",
       "    </tr>\n",
       "    <tr>\n",
       "      <th>4</th>\n",
       "      <td>Aruba</td>\n",
       "      <td>2020-01-26</td>\n",
       "    </tr>\n",
       "  </tbody>\n",
       "</table>\n",
       "</div>"
      ],
      "text/plain": [
       "  Country       Date\n",
       "0   Aruba 2020-01-22\n",
       "1   Aruba 2020-01-23\n",
       "2   Aruba 2020-01-24\n",
       "3   Aruba 2020-01-25\n",
       "4   Aruba 2020-01-26"
      ]
     },
     "execution_count": 24,
     "metadata": {},
     "output_type": "execute_result"
    }
   ],
   "source": [
    "country_date_list.head()"
   ]
  },
  {
   "cell_type": "code",
   "execution_count": 25,
   "metadata": {},
   "outputs": [],
   "source": [
    "country_date_list.to_csv('country_date_list.csv', encoding='utf-8', index=False)"
   ]
  },
  {
   "cell_type": "code",
   "execution_count": null,
   "metadata": {},
   "outputs": [],
   "source": []
  },
  {
   "cell_type": "code",
   "execution_count": null,
   "metadata": {},
   "outputs": [],
   "source": []
  },
  {
   "cell_type": "code",
   "execution_count": null,
   "metadata": {},
   "outputs": [],
   "source": []
  },
  {
   "cell_type": "code",
   "execution_count": null,
   "metadata": {},
   "outputs": [],
   "source": []
  },
  {
   "cell_type": "markdown",
   "metadata": {},
   "source": [
    "## ---------------------------------------------------------------------------------------\n",
    "## Merging the Coronavirus dataframe and the country-date-dataframe\n",
    "## ---------------------------------------------------------------------------------------"
   ]
  },
  {
   "cell_type": "code",
   "execution_count": 26,
   "metadata": {},
   "outputs": [],
   "source": [
    "# Merging the sum_dataframe and the country-date-dataframe, such that:\n",
    "#     1. Only countries that are common in both dataframes are merged\n",
    "#     2. The countries that are present in the country-date-dataframe \n",
    "#        but not in the sum_dataframe are NOT removed - otherwise map for that country will be blank\n",
    "\n",
    "# Also, this way, the countries that didn't have COVID-19 data will still be given dates -- so there will be no null values in the date column, \n",
    "# which is important because the date is the factor that will be looped over\n",
    "# All the null values in countries that didn't have any COVID-19 data can be filled in later\n",
    "\n",
    "merged = pd.merge(country_date_list, sum_df, how='left', left_on=['Country', 'Date'], right_on=['Country', 'Date'])"
   ]
  },
  {
   "cell_type": "code",
   "execution_count": 27,
   "metadata": {},
   "outputs": [
    {
     "data": {
      "text/html": [
       "<div>\n",
       "<style scoped>\n",
       "    .dataframe tbody tr th:only-of-type {\n",
       "        vertical-align: middle;\n",
       "    }\n",
       "\n",
       "    .dataframe tbody tr th {\n",
       "        vertical-align: top;\n",
       "    }\n",
       "\n",
       "    .dataframe thead th {\n",
       "        text-align: right;\n",
       "    }\n",
       "</style>\n",
       "<table border=\"1\" class=\"dataframe\">\n",
       "  <thead>\n",
       "    <tr style=\"text-align: right;\">\n",
       "      <th></th>\n",
       "      <th>Country</th>\n",
       "      <th>Date</th>\n",
       "      <th>Confirmed</th>\n",
       "      <th>Deaths</th>\n",
       "      <th>Recovered</th>\n",
       "      <th>Active</th>\n",
       "    </tr>\n",
       "  </thead>\n",
       "  <tbody>\n",
       "    <tr>\n",
       "      <th>0</th>\n",
       "      <td>Aruba</td>\n",
       "      <td>2020-01-22</td>\n",
       "      <td>NaN</td>\n",
       "      <td>NaN</td>\n",
       "      <td>NaN</td>\n",
       "      <td>NaN</td>\n",
       "    </tr>\n",
       "    <tr>\n",
       "      <th>1</th>\n",
       "      <td>Aruba</td>\n",
       "      <td>2020-01-23</td>\n",
       "      <td>NaN</td>\n",
       "      <td>NaN</td>\n",
       "      <td>NaN</td>\n",
       "      <td>NaN</td>\n",
       "    </tr>\n",
       "    <tr>\n",
       "      <th>2</th>\n",
       "      <td>Aruba</td>\n",
       "      <td>2020-01-24</td>\n",
       "      <td>NaN</td>\n",
       "      <td>NaN</td>\n",
       "      <td>NaN</td>\n",
       "      <td>NaN</td>\n",
       "    </tr>\n",
       "    <tr>\n",
       "      <th>3</th>\n",
       "      <td>Aruba</td>\n",
       "      <td>2020-01-25</td>\n",
       "      <td>NaN</td>\n",
       "      <td>NaN</td>\n",
       "      <td>NaN</td>\n",
       "      <td>NaN</td>\n",
       "    </tr>\n",
       "    <tr>\n",
       "      <th>4</th>\n",
       "      <td>Aruba</td>\n",
       "      <td>2020-01-26</td>\n",
       "      <td>NaN</td>\n",
       "      <td>NaN</td>\n",
       "      <td>NaN</td>\n",
       "      <td>NaN</td>\n",
       "    </tr>\n",
       "  </tbody>\n",
       "</table>\n",
       "</div>"
      ],
      "text/plain": [
       "  Country       Date  Confirmed  Deaths  Recovered  Active\n",
       "0   Aruba 2020-01-22        NaN     NaN        NaN     NaN\n",
       "1   Aruba 2020-01-23        NaN     NaN        NaN     NaN\n",
       "2   Aruba 2020-01-24        NaN     NaN        NaN     NaN\n",
       "3   Aruba 2020-01-25        NaN     NaN        NaN     NaN\n",
       "4   Aruba 2020-01-26        NaN     NaN        NaN     NaN"
      ]
     },
     "execution_count": 27,
     "metadata": {},
     "output_type": "execute_result"
    }
   ],
   "source": [
    "merged.head()"
   ]
  },
  {
   "cell_type": "code",
   "execution_count": 28,
   "metadata": {},
   "outputs": [
    {
     "name": "stdout",
     "output_type": "stream",
     "text": [
      "<class 'pandas.core.frame.DataFrame'>\n",
      "Int64Index: 20833 entries, 0 to 20832\n",
      "Data columns (total 6 columns):\n",
      "Country      20833 non-null object\n",
      "Date         20833 non-null datetime64[ns]\n",
      "Confirmed    14442 non-null float64\n",
      "Deaths       14442 non-null float64\n",
      "Recovered    14442 non-null float64\n",
      "Active       14442 non-null float64\n",
      "dtypes: datetime64[ns](1), float64(4), object(1)\n",
      "memory usage: 1.1+ MB\n"
     ]
    }
   ],
   "source": [
    "merged.info()"
   ]
  },
  {
   "cell_type": "code",
   "execution_count": null,
   "metadata": {},
   "outputs": [],
   "source": []
  },
  {
   "cell_type": "code",
   "execution_count": null,
   "metadata": {},
   "outputs": [],
   "source": []
  },
  {
   "cell_type": "markdown",
   "metadata": {},
   "source": [
    "## ---------------------------------------------------------------------------------------\n",
    "## Filling null values in the merged dataframe\n",
    "## ---------------------------------------------------------------------------------------"
   ]
  },
  {
   "cell_type": "code",
   "execution_count": 29,
   "metadata": {},
   "outputs": [
    {
     "name": "stdout",
     "output_type": "stream",
     "text": [
      "           Total    Percent\n",
      "Active      6391  30.677291\n",
      "Recovered   6391  30.677291\n",
      "Deaths      6391  30.677291\n",
      "Confirmed   6391  30.677291\n",
      "-------------\n"
     ]
    }
   ],
   "source": [
    "# Checking the percentage of null values\n",
    "\n",
    "def printNullValues(df):\n",
    "    total = df.isnull().sum().sort_values(ascending = False)\n",
    "    total = total[df.isnull().sum().sort_values(ascending = False) != 0]\n",
    "    percent = total * 100 / len(df)\n",
    "    percent = percent[df.isnull().sum().sort_values(ascending = False) != 0]\n",
    "    concat = pd.concat([total, percent], axis=1, keys=['Total','Percent'])\n",
    "    print (concat)\n",
    "    print ( \"-------------\")\n",
    "    \n",
    "printNullValues(merged)"
   ]
  },
  {
   "cell_type": "code",
   "execution_count": 30,
   "metadata": {},
   "outputs": [],
   "source": [
    "# Filling null values with zero\n",
    "\n",
    "merged['Confirmed'] = merged['Confirmed'].fillna(0)\n",
    "merged['Deaths'] = merged['Deaths'].fillna(0)\n",
    "merged['Recovered'] = merged['Recovered'].fillna(0)\n",
    "merged['Active'] = merged['Active'].fillna(0)\n",
    "\n",
    "# Null date columns mean that data for that country is not present\n",
    "# Replacing those null values with a dummy date\n",
    "end = pd.to_datetime('2020-4-20')\n",
    "merged['Date'] = merged['Date'].fillna(end)\n"
   ]
  },
  {
   "cell_type": "code",
   "execution_count": 31,
   "metadata": {},
   "outputs": [
    {
     "name": "stdout",
     "output_type": "stream",
     "text": [
      "Empty DataFrame\n",
      "Columns: [Total, Percent]\n",
      "Index: []\n",
      "-------------\n"
     ]
    }
   ],
   "source": [
    "# Checking the percentage of null values again\n",
    "\n",
    "def printNullValues(df):\n",
    "    total = df.isnull().sum().sort_values(ascending = False)\n",
    "    total = total[df.isnull().sum().sort_values(ascending = False) != 0]\n",
    "    percent = total * 100 / len(df)\n",
    "    percent = percent[df.isnull().sum().sort_values(ascending = False) != 0]\n",
    "    concat = pd.concat([total, percent], axis=1, keys=['Total','Percent'])\n",
    "    print (concat)\n",
    "    print ( \"-------------\")\n",
    "    \n",
    "printNullValues(merged)"
   ]
  },
  {
   "cell_type": "code",
   "execution_count": 32,
   "metadata": {},
   "outputs": [
    {
     "name": "stdout",
     "output_type": "stream",
     "text": [
      "<class 'pandas.core.frame.DataFrame'>\n",
      "Int64Index: 20833 entries, 0 to 20832\n",
      "Data columns (total 6 columns):\n",
      "Country      20833 non-null object\n",
      "Date         20833 non-null datetime64[ns]\n",
      "Confirmed    20833 non-null float64\n",
      "Deaths       20833 non-null float64\n",
      "Recovered    20833 non-null float64\n",
      "Active       20833 non-null float64\n",
      "dtypes: datetime64[ns](1), float64(4), object(1)\n",
      "memory usage: 1.1+ MB\n"
     ]
    }
   ],
   "source": [
    "merged.info()"
   ]
  },
  {
   "cell_type": "code",
   "execution_count": null,
   "metadata": {},
   "outputs": [],
   "source": []
  },
  {
   "cell_type": "code",
   "execution_count": null,
   "metadata": {},
   "outputs": [],
   "source": []
  },
  {
   "cell_type": "code",
   "execution_count": null,
   "metadata": {},
   "outputs": [],
   "source": []
  },
  {
   "cell_type": "code",
   "execution_count": null,
   "metadata": {},
   "outputs": [],
   "source": []
  },
  {
   "cell_type": "markdown",
   "metadata": {},
   "source": [
    "## ---------------------------------------------------------------------------------------\n",
    "## Merging the merged Coronavirus dataframe and the shape file\n",
    "## ---------------------------------------------------------------------------------------"
   ]
  },
  {
   "cell_type": "code",
   "execution_count": 33,
   "metadata": {},
   "outputs": [],
   "source": [
    "# Finally merging the shape-file and the merged-dataframe\n",
    "# Now all countries will have a date, and a geometry column to plot the country shape on the world map\n",
    "\n",
    "final = pd.merge(merged, shape_file, on='Country')"
   ]
  },
  {
   "cell_type": "code",
   "execution_count": 34,
   "metadata": {},
   "outputs": [
    {
     "name": "stdout",
     "output_type": "stream",
     "text": [
      "<class 'pandas.core.frame.DataFrame'>\n",
      "Int64Index: 20833 entries, 0 to 20832\n",
      "Data columns (total 7 columns):\n",
      "Country      20833 non-null object\n",
      "Date         20833 non-null datetime64[ns]\n",
      "Confirmed    20833 non-null float64\n",
      "Deaths       20833 non-null float64\n",
      "Recovered    20833 non-null float64\n",
      "Active       20833 non-null float64\n",
      "geometry     20833 non-null geometry\n",
      "dtypes: datetime64[ns](1), float64(4), geometry(1), object(1)\n",
      "memory usage: 1.3+ MB\n"
     ]
    }
   ],
   "source": [
    "final.info()"
   ]
  },
  {
   "cell_type": "code",
   "execution_count": 35,
   "metadata": {},
   "outputs": [
    {
     "data": {
      "text/html": [
       "<div>\n",
       "<style scoped>\n",
       "    .dataframe tbody tr th:only-of-type {\n",
       "        vertical-align: middle;\n",
       "    }\n",
       "\n",
       "    .dataframe tbody tr th {\n",
       "        vertical-align: top;\n",
       "    }\n",
       "\n",
       "    .dataframe thead th {\n",
       "        text-align: right;\n",
       "    }\n",
       "</style>\n",
       "<table border=\"1\" class=\"dataframe\">\n",
       "  <thead>\n",
       "    <tr style=\"text-align: right;\">\n",
       "      <th></th>\n",
       "      <th>Country</th>\n",
       "      <th>Date</th>\n",
       "      <th>Confirmed</th>\n",
       "      <th>Deaths</th>\n",
       "      <th>Recovered</th>\n",
       "      <th>Active</th>\n",
       "      <th>geometry</th>\n",
       "    </tr>\n",
       "  </thead>\n",
       "  <tbody>\n",
       "    <tr>\n",
       "      <th>0</th>\n",
       "      <td>Aruba</td>\n",
       "      <td>2020-01-22</td>\n",
       "      <td>0.0</td>\n",
       "      <td>0.0</td>\n",
       "      <td>0.0</td>\n",
       "      <td>0.0</td>\n",
       "      <td>POLYGON ((-69.88223 12.41111, -69.94695 12.436...</td>\n",
       "    </tr>\n",
       "    <tr>\n",
       "      <th>1</th>\n",
       "      <td>Aruba</td>\n",
       "      <td>2020-01-23</td>\n",
       "      <td>0.0</td>\n",
       "      <td>0.0</td>\n",
       "      <td>0.0</td>\n",
       "      <td>0.0</td>\n",
       "      <td>POLYGON ((-69.88223 12.41111, -69.94695 12.436...</td>\n",
       "    </tr>\n",
       "    <tr>\n",
       "      <th>2</th>\n",
       "      <td>Aruba</td>\n",
       "      <td>2020-01-24</td>\n",
       "      <td>0.0</td>\n",
       "      <td>0.0</td>\n",
       "      <td>0.0</td>\n",
       "      <td>0.0</td>\n",
       "      <td>POLYGON ((-69.88223 12.41111, -69.94695 12.436...</td>\n",
       "    </tr>\n",
       "    <tr>\n",
       "      <th>3</th>\n",
       "      <td>Aruba</td>\n",
       "      <td>2020-01-25</td>\n",
       "      <td>0.0</td>\n",
       "      <td>0.0</td>\n",
       "      <td>0.0</td>\n",
       "      <td>0.0</td>\n",
       "      <td>POLYGON ((-69.88223 12.41111, -69.94695 12.436...</td>\n",
       "    </tr>\n",
       "    <tr>\n",
       "      <th>4</th>\n",
       "      <td>Aruba</td>\n",
       "      <td>2020-01-26</td>\n",
       "      <td>0.0</td>\n",
       "      <td>0.0</td>\n",
       "      <td>0.0</td>\n",
       "      <td>0.0</td>\n",
       "      <td>POLYGON ((-69.88223 12.41111, -69.94695 12.436...</td>\n",
       "    </tr>\n",
       "  </tbody>\n",
       "</table>\n",
       "</div>"
      ],
      "text/plain": [
       "  Country       Date  Confirmed  Deaths  Recovered  Active  \\\n",
       "0   Aruba 2020-01-22        0.0     0.0        0.0     0.0   \n",
       "1   Aruba 2020-01-23        0.0     0.0        0.0     0.0   \n",
       "2   Aruba 2020-01-24        0.0     0.0        0.0     0.0   \n",
       "3   Aruba 2020-01-25        0.0     0.0        0.0     0.0   \n",
       "4   Aruba 2020-01-26        0.0     0.0        0.0     0.0   \n",
       "\n",
       "                                            geometry  \n",
       "0  POLYGON ((-69.88223 12.41111, -69.94695 12.436...  \n",
       "1  POLYGON ((-69.88223 12.41111, -69.94695 12.436...  \n",
       "2  POLYGON ((-69.88223 12.41111, -69.94695 12.436...  \n",
       "3  POLYGON ((-69.88223 12.41111, -69.94695 12.436...  \n",
       "4  POLYGON ((-69.88223 12.41111, -69.94695 12.436...  "
      ]
     },
     "execution_count": 35,
     "metadata": {},
     "output_type": "execute_result"
    }
   ],
   "source": [
    "final.head()"
   ]
  },
  {
   "cell_type": "code",
   "execution_count": 48,
   "metadata": {},
   "outputs": [
    {
     "name": "stdout",
     "output_type": "stream",
     "text": [
      "Empty DataFrame\n",
      "Columns: [Total, Percent]\n",
      "Index: []\n",
      "-------------\n"
     ]
    }
   ],
   "source": [
    "# Checking the percentage of null values again\n",
    "\n",
    "def printNullValues(df):\n",
    "    total = df.isnull().sum().sort_values(ascending = False)\n",
    "    total = total[df.isnull().sum().sort_values(ascending = False) != 0]\n",
    "    percent = total * 100 / len(df)\n",
    "    percent = percent[df.isnull().sum().sort_values(ascending = False) != 0]\n",
    "    concat = pd.concat([total, percent], axis=1, keys=['Total','Percent'])\n",
    "    print (concat)\n",
    "    print ( \"-------------\")\n",
    "    \n",
    "printNullValues(final)"
   ]
  },
  {
   "cell_type": "code",
   "execution_count": null,
   "metadata": {},
   "outputs": [],
   "source": []
  },
  {
   "cell_type": "code",
   "execution_count": null,
   "metadata": {},
   "outputs": [],
   "source": []
  },
  {
   "cell_type": "markdown",
   "metadata": {},
   "source": [
    "## ---------------------------------------------------------------------------------------\n",
    "## Creating log10 columns for values\n",
    "## ---------------------------------------------------------------------------------------"
   ]
  },
  {
   "cell_type": "code",
   "execution_count": 36,
   "metadata": {},
   "outputs": [
    {
     "name": "stderr",
     "output_type": "stream",
     "text": [
      "/Library/Frameworks/Python.framework/Versions/3.7/lib/python3.7/site-packages/pandas/core/series.py:853: RuntimeWarning: divide by zero encountered in log10\n",
      "  result = getattr(ufunc, method)(*inputs, **kwargs)\n",
      "/Library/Frameworks/Python.framework/Versions/3.7/lib/python3.7/site-packages/ipykernel_launcher.py:9: SettingWithCopyWarning: \n",
      "A value is trying to be set on a copy of a slice from a DataFrame\n",
      "\n",
      "See the caveats in the documentation: http://pandas.pydata.org/pandas-docs/stable/user_guide/indexing.html#returning-a-view-versus-a-copy\n",
      "  if __name__ == '__main__':\n",
      "/Library/Frameworks/Python.framework/Versions/3.7/lib/python3.7/site-packages/ipykernel_launcher.py:10: SettingWithCopyWarning: \n",
      "A value is trying to be set on a copy of a slice from a DataFrame\n",
      "\n",
      "See the caveats in the documentation: http://pandas.pydata.org/pandas-docs/stable/user_guide/indexing.html#returning-a-view-versus-a-copy\n",
      "  # Remove the CWD from sys.path while we load stuff.\n"
     ]
    }
   ],
   "source": [
    "# Making new columns for log10(Confirmed Cases) and log10(Deaths)\n",
    "\n",
    "final['log_Confirmed'] = np.log10(final['Confirmed'])\n",
    "final['log_Deaths'] = np.log10(final['Deaths'])\n",
    "\n",
    "# Since log10(0) = - inf, and many values are 0\n",
    "# Replacing all values smaller than 0 with 0\n",
    "\n",
    "final.log_Confirmed[final.log_Confirmed < 0] = 0\n",
    "final.log_Deaths[final.log_Deaths < 0] = 0"
   ]
  },
  {
   "cell_type": "code",
   "execution_count": 37,
   "metadata": {},
   "outputs": [
    {
     "name": "stdout",
     "output_type": "stream",
     "text": [
      "<class 'pandas.core.frame.DataFrame'>\n",
      "Int64Index: 20833 entries, 0 to 20832\n",
      "Data columns (total 9 columns):\n",
      "Country          20833 non-null object\n",
      "Date             20833 non-null datetime64[ns]\n",
      "Confirmed        20833 non-null float64\n",
      "Deaths           20833 non-null float64\n",
      "Recovered        20833 non-null float64\n",
      "Active           20833 non-null float64\n",
      "geometry         20833 non-null geometry\n",
      "log_Confirmed    20833 non-null float64\n",
      "log_Deaths       20833 non-null float64\n",
      "dtypes: datetime64[ns](1), float64(6), geometry(1), object(1)\n",
      "memory usage: 1.6+ MB\n"
     ]
    }
   ],
   "source": [
    "final.info()"
   ]
  },
  {
   "cell_type": "code",
   "execution_count": 38,
   "metadata": {},
   "outputs": [
    {
     "data": {
      "text/html": [
       "<div>\n",
       "<style scoped>\n",
       "    .dataframe tbody tr th:only-of-type {\n",
       "        vertical-align: middle;\n",
       "    }\n",
       "\n",
       "    .dataframe tbody tr th {\n",
       "        vertical-align: top;\n",
       "    }\n",
       "\n",
       "    .dataframe thead th {\n",
       "        text-align: right;\n",
       "    }\n",
       "</style>\n",
       "<table border=\"1\" class=\"dataframe\">\n",
       "  <thead>\n",
       "    <tr style=\"text-align: right;\">\n",
       "      <th></th>\n",
       "      <th>Country</th>\n",
       "      <th>Date</th>\n",
       "      <th>Confirmed</th>\n",
       "      <th>Deaths</th>\n",
       "      <th>Recovered</th>\n",
       "      <th>Active</th>\n",
       "      <th>geometry</th>\n",
       "      <th>log_Confirmed</th>\n",
       "      <th>log_Deaths</th>\n",
       "    </tr>\n",
       "  </thead>\n",
       "  <tbody>\n",
       "    <tr>\n",
       "      <th>20828</th>\n",
       "      <td>Zimbabwe</td>\n",
       "      <td>2020-04-09</td>\n",
       "      <td>11.0</td>\n",
       "      <td>3.0</td>\n",
       "      <td>0.0</td>\n",
       "      <td>0.0</td>\n",
       "      <td>POLYGON ((32.48888 -21.34445, 32.46541 -21.325...</td>\n",
       "      <td>1.041393</td>\n",
       "      <td>0.477121</td>\n",
       "    </tr>\n",
       "    <tr>\n",
       "      <th>20829</th>\n",
       "      <td>Zimbabwe</td>\n",
       "      <td>2020-04-10</td>\n",
       "      <td>13.0</td>\n",
       "      <td>3.0</td>\n",
       "      <td>0.0</td>\n",
       "      <td>0.0</td>\n",
       "      <td>POLYGON ((32.48888 -21.34445, 32.46541 -21.325...</td>\n",
       "      <td>1.113943</td>\n",
       "      <td>0.477121</td>\n",
       "    </tr>\n",
       "    <tr>\n",
       "      <th>20830</th>\n",
       "      <td>Zimbabwe</td>\n",
       "      <td>2020-04-11</td>\n",
       "      <td>14.0</td>\n",
       "      <td>3.0</td>\n",
       "      <td>0.0</td>\n",
       "      <td>0.0</td>\n",
       "      <td>POLYGON ((32.48888 -21.34445, 32.46541 -21.325...</td>\n",
       "      <td>1.146128</td>\n",
       "      <td>0.477121</td>\n",
       "    </tr>\n",
       "    <tr>\n",
       "      <th>20831</th>\n",
       "      <td>Zimbabwe</td>\n",
       "      <td>2020-04-12</td>\n",
       "      <td>14.0</td>\n",
       "      <td>3.0</td>\n",
       "      <td>0.0</td>\n",
       "      <td>0.0</td>\n",
       "      <td>POLYGON ((32.48888 -21.34445, 32.46541 -21.325...</td>\n",
       "      <td>1.146128</td>\n",
       "      <td>0.477121</td>\n",
       "    </tr>\n",
       "    <tr>\n",
       "      <th>20832</th>\n",
       "      <td>Zimbabwe</td>\n",
       "      <td>2020-04-13</td>\n",
       "      <td>17.0</td>\n",
       "      <td>3.0</td>\n",
       "      <td>0.0</td>\n",
       "      <td>0.0</td>\n",
       "      <td>POLYGON ((32.48888 -21.34445, 32.46541 -21.325...</td>\n",
       "      <td>1.230449</td>\n",
       "      <td>0.477121</td>\n",
       "    </tr>\n",
       "  </tbody>\n",
       "</table>\n",
       "</div>"
      ],
      "text/plain": [
       "        Country       Date  Confirmed  Deaths  Recovered  Active  \\\n",
       "20828  Zimbabwe 2020-04-09       11.0     3.0        0.0     0.0   \n",
       "20829  Zimbabwe 2020-04-10       13.0     3.0        0.0     0.0   \n",
       "20830  Zimbabwe 2020-04-11       14.0     3.0        0.0     0.0   \n",
       "20831  Zimbabwe 2020-04-12       14.0     3.0        0.0     0.0   \n",
       "20832  Zimbabwe 2020-04-13       17.0     3.0        0.0     0.0   \n",
       "\n",
       "                                                geometry  log_Confirmed  \\\n",
       "20828  POLYGON ((32.48888 -21.34445, 32.46541 -21.325...       1.041393   \n",
       "20829  POLYGON ((32.48888 -21.34445, 32.46541 -21.325...       1.113943   \n",
       "20830  POLYGON ((32.48888 -21.34445, 32.46541 -21.325...       1.146128   \n",
       "20831  POLYGON ((32.48888 -21.34445, 32.46541 -21.325...       1.146128   \n",
       "20832  POLYGON ((32.48888 -21.34445, 32.46541 -21.325...       1.230449   \n",
       "\n",
       "       log_Deaths  \n",
       "20828    0.477121  \n",
       "20829    0.477121  \n",
       "20830    0.477121  \n",
       "20831    0.477121  \n",
       "20832    0.477121  "
      ]
     },
     "execution_count": 38,
     "metadata": {},
     "output_type": "execute_result"
    }
   ],
   "source": [
    "final.tail()"
   ]
  },
  {
   "cell_type": "code",
   "execution_count": null,
   "metadata": {},
   "outputs": [],
   "source": []
  },
  {
   "cell_type": "code",
   "execution_count": null,
   "metadata": {},
   "outputs": [],
   "source": []
  },
  {
   "cell_type": "code",
   "execution_count": null,
   "metadata": {},
   "outputs": [],
   "source": []
  },
  {
   "cell_type": "markdown",
   "metadata": {},
   "source": [
    "## ---------------------------------------------------------------------------------------\n",
    "## Removing Antarctica\n",
    "## ---------------------------------------------------------------------------------------"
   ]
  },
  {
   "cell_type": "code",
   "execution_count": 41,
   "metadata": {},
   "outputs": [
    {
     "data": {
      "text/plain": [
       "Int64Index([1162, 1163, 1164, 1165, 1166, 1167, 1168, 1169, 1170, 1171, 1172,\n",
       "            1173, 1174, 1175, 1176, 1177, 1178, 1179, 1180, 1181, 1182, 1183,\n",
       "            1184, 1185, 1186, 1187, 1188, 1189, 1190, 1191, 1192, 1193, 1194,\n",
       "            1195, 1196, 1197, 1198, 1199, 1200, 1201, 1202, 1203, 1204, 1205,\n",
       "            1206, 1207, 1208, 1209, 1210, 1211, 1212, 1213, 1214, 1215, 1216,\n",
       "            1217, 1218, 1219, 1220, 1221, 1222, 1223, 1224, 1225, 1226, 1227,\n",
       "            1228, 1229, 1230, 1231, 1232, 1233, 1234, 1235, 1236, 1237, 1238,\n",
       "            1239, 1240, 1241, 1242, 1243, 1244],\n",
       "           dtype='int64')"
      ]
     },
     "execution_count": 41,
     "metadata": {},
     "output_type": "execute_result"
    }
   ],
   "source": [
    "# Antarctica is not inhabited\n",
    "# So removing it from the countries to map\n",
    "\n",
    "antarctica_loc = final.loc[final.Country == 'Antarctica']\n",
    "antarctica_loc.index.unique()"
   ]
  },
  {
   "cell_type": "code",
   "execution_count": 42,
   "metadata": {},
   "outputs": [],
   "source": [
    "# Dropping the rows that represnt Antarctica\n",
    "\n",
    "final.drop(final.index[[1162, 1163, 1164, 1165, 1166, 1167, 1168, 1169, 1170, 1171, 1172,\n",
    "            1173, 1174, 1175, 1176, 1177, 1178, 1179, 1180, 1181, 1182, 1183,\n",
    "            1184, 1185, 1186, 1187, 1188, 1189, 1190, 1191, 1192, 1193, 1194,\n",
    "            1195, 1196, 1197, 1198, 1199, 1200, 1201, 1202, 1203, 1204, 1205,\n",
    "            1206, 1207, 1208, 1209, 1210, 1211, 1212, 1213, 1214, 1215, 1216,\n",
    "            1217, 1218, 1219, 1220, 1221, 1222, 1223, 1224, 1225, 1226, 1227,\n",
    "            1228, 1229, 1230, 1231, 1232, 1233, 1234, 1235, 1236, 1237, 1238,\n",
    "            1239, 1240, 1241, 1242, 1243, 1244]], inplace=True)"
   ]
  },
  {
   "cell_type": "code",
   "execution_count": 43,
   "metadata": {},
   "outputs": [
    {
     "data": {
      "text/html": [
       "<div>\n",
       "<style scoped>\n",
       "    .dataframe tbody tr th:only-of-type {\n",
       "        vertical-align: middle;\n",
       "    }\n",
       "\n",
       "    .dataframe tbody tr th {\n",
       "        vertical-align: top;\n",
       "    }\n",
       "\n",
       "    .dataframe thead th {\n",
       "        text-align: right;\n",
       "    }\n",
       "</style>\n",
       "<table border=\"1\" class=\"dataframe\">\n",
       "  <thead>\n",
       "    <tr style=\"text-align: right;\">\n",
       "      <th></th>\n",
       "      <th>Country</th>\n",
       "      <th>Date</th>\n",
       "      <th>Confirmed</th>\n",
       "      <th>Deaths</th>\n",
       "      <th>Recovered</th>\n",
       "      <th>Active</th>\n",
       "      <th>geometry</th>\n",
       "      <th>log_Confirmed</th>\n",
       "      <th>log_Deaths</th>\n",
       "    </tr>\n",
       "  </thead>\n",
       "  <tbody>\n",
       "  </tbody>\n",
       "</table>\n",
       "</div>"
      ],
      "text/plain": [
       "Empty DataFrame\n",
       "Columns: [Country, Date, Confirmed, Deaths, Recovered, Active, geometry, log_Confirmed, log_Deaths]\n",
       "Index: []"
      ]
     },
     "execution_count": 43,
     "metadata": {},
     "output_type": "execute_result"
    }
   ],
   "source": [
    "# Confirming by looking up the dataframe\n",
    "\n",
    "final.loc[final.Country == 'Antarctica']"
   ]
  },
  {
   "cell_type": "code",
   "execution_count": 44,
   "metadata": {},
   "outputs": [
    {
     "name": "stdout",
     "output_type": "stream",
     "text": [
      "<class 'pandas.core.frame.DataFrame'>\n",
      "RangeIndex: 20750 entries, 0 to 20749\n",
      "Data columns (total 9 columns):\n",
      "Country          20750 non-null object\n",
      "Date             20750 non-null datetime64[ns]\n",
      "Confirmed        20750 non-null float64\n",
      "Deaths           20750 non-null float64\n",
      "Recovered        20750 non-null float64\n",
      "Active           20750 non-null float64\n",
      "geometry         20750 non-null geometry\n",
      "log_Confirmed    20750 non-null float64\n",
      "log_Deaths       20750 non-null float64\n",
      "dtypes: datetime64[ns](1), float64(6), geometry(1), object(1)\n",
      "memory usage: 1.4+ MB\n"
     ]
    }
   ],
   "source": [
    "# Resetting the index\n",
    "\n",
    "final.reset_index(drop=True, inplace=True)\n",
    "final.info()"
   ]
  },
  {
   "cell_type": "code",
   "execution_count": null,
   "metadata": {},
   "outputs": [],
   "source": []
  },
  {
   "cell_type": "code",
   "execution_count": null,
   "metadata": {},
   "outputs": [],
   "source": []
  },
  {
   "cell_type": "code",
   "execution_count": null,
   "metadata": {},
   "outputs": [],
   "source": []
  },
  {
   "cell_type": "code",
   "execution_count": 45,
   "metadata": {},
   "outputs": [
    {
     "data": {
      "text/html": [
       "<div>\n",
       "<style scoped>\n",
       "    .dataframe tbody tr th:only-of-type {\n",
       "        vertical-align: middle;\n",
       "    }\n",
       "\n",
       "    .dataframe tbody tr th {\n",
       "        vertical-align: top;\n",
       "    }\n",
       "\n",
       "    .dataframe thead th {\n",
       "        text-align: right;\n",
       "    }\n",
       "</style>\n",
       "<table border=\"1\" class=\"dataframe\">\n",
       "  <thead>\n",
       "    <tr style=\"text-align: right;\">\n",
       "      <th></th>\n",
       "      <th>Country</th>\n",
       "      <th>Date</th>\n",
       "      <th>Confirmed</th>\n",
       "      <th>Deaths</th>\n",
       "      <th>Recovered</th>\n",
       "      <th>Active</th>\n",
       "      <th>geometry</th>\n",
       "      <th>log_Confirmed</th>\n",
       "      <th>log_Deaths</th>\n",
       "    </tr>\n",
       "  </thead>\n",
       "  <tbody>\n",
       "    <tr>\n",
       "      <th>0</th>\n",
       "      <td>Aruba</td>\n",
       "      <td>2020-01-22</td>\n",
       "      <td>0.0</td>\n",
       "      <td>0.0</td>\n",
       "      <td>0.0</td>\n",
       "      <td>0.0</td>\n",
       "      <td>POLYGON ((-69.88223 12.41111, -69.94695 12.436...</td>\n",
       "      <td>0.0</td>\n",
       "      <td>0.0</td>\n",
       "    </tr>\n",
       "    <tr>\n",
       "      <th>1</th>\n",
       "      <td>Aruba</td>\n",
       "      <td>2020-01-23</td>\n",
       "      <td>0.0</td>\n",
       "      <td>0.0</td>\n",
       "      <td>0.0</td>\n",
       "      <td>0.0</td>\n",
       "      <td>POLYGON ((-69.88223 12.41111, -69.94695 12.436...</td>\n",
       "      <td>0.0</td>\n",
       "      <td>0.0</td>\n",
       "    </tr>\n",
       "    <tr>\n",
       "      <th>2</th>\n",
       "      <td>Aruba</td>\n",
       "      <td>2020-01-24</td>\n",
       "      <td>0.0</td>\n",
       "      <td>0.0</td>\n",
       "      <td>0.0</td>\n",
       "      <td>0.0</td>\n",
       "      <td>POLYGON ((-69.88223 12.41111, -69.94695 12.436...</td>\n",
       "      <td>0.0</td>\n",
       "      <td>0.0</td>\n",
       "    </tr>\n",
       "    <tr>\n",
       "      <th>3</th>\n",
       "      <td>Aruba</td>\n",
       "      <td>2020-01-25</td>\n",
       "      <td>0.0</td>\n",
       "      <td>0.0</td>\n",
       "      <td>0.0</td>\n",
       "      <td>0.0</td>\n",
       "      <td>POLYGON ((-69.88223 12.41111, -69.94695 12.436...</td>\n",
       "      <td>0.0</td>\n",
       "      <td>0.0</td>\n",
       "    </tr>\n",
       "    <tr>\n",
       "      <th>4</th>\n",
       "      <td>Aruba</td>\n",
       "      <td>2020-01-26</td>\n",
       "      <td>0.0</td>\n",
       "      <td>0.0</td>\n",
       "      <td>0.0</td>\n",
       "      <td>0.0</td>\n",
       "      <td>POLYGON ((-69.88223 12.41111, -69.94695 12.436...</td>\n",
       "      <td>0.0</td>\n",
       "      <td>0.0</td>\n",
       "    </tr>\n",
       "  </tbody>\n",
       "</table>\n",
       "</div>"
      ],
      "text/plain": [
       "  Country       Date  Confirmed  Deaths  Recovered  Active  \\\n",
       "0   Aruba 2020-01-22        0.0     0.0        0.0     0.0   \n",
       "1   Aruba 2020-01-23        0.0     0.0        0.0     0.0   \n",
       "2   Aruba 2020-01-24        0.0     0.0        0.0     0.0   \n",
       "3   Aruba 2020-01-25        0.0     0.0        0.0     0.0   \n",
       "4   Aruba 2020-01-26        0.0     0.0        0.0     0.0   \n",
       "\n",
       "                                            geometry  log_Confirmed  \\\n",
       "0  POLYGON ((-69.88223 12.41111, -69.94695 12.436...            0.0   \n",
       "1  POLYGON ((-69.88223 12.41111, -69.94695 12.436...            0.0   \n",
       "2  POLYGON ((-69.88223 12.41111, -69.94695 12.436...            0.0   \n",
       "3  POLYGON ((-69.88223 12.41111, -69.94695 12.436...            0.0   \n",
       "4  POLYGON ((-69.88223 12.41111, -69.94695 12.436...            0.0   \n",
       "\n",
       "   log_Deaths  \n",
       "0         0.0  \n",
       "1         0.0  \n",
       "2         0.0  \n",
       "3         0.0  \n",
       "4         0.0  "
      ]
     },
     "execution_count": 45,
     "metadata": {},
     "output_type": "execute_result"
    }
   ],
   "source": [
    "final.head()"
   ]
  },
  {
   "cell_type": "code",
   "execution_count": 46,
   "metadata": {},
   "outputs": [
    {
     "data": {
      "text/html": [
       "<div>\n",
       "<style scoped>\n",
       "    .dataframe tbody tr th:only-of-type {\n",
       "        vertical-align: middle;\n",
       "    }\n",
       "\n",
       "    .dataframe tbody tr th {\n",
       "        vertical-align: top;\n",
       "    }\n",
       "\n",
       "    .dataframe thead th {\n",
       "        text-align: right;\n",
       "    }\n",
       "</style>\n",
       "<table border=\"1\" class=\"dataframe\">\n",
       "  <thead>\n",
       "    <tr style=\"text-align: right;\">\n",
       "      <th></th>\n",
       "      <th>Country</th>\n",
       "      <th>Date</th>\n",
       "      <th>Confirmed</th>\n",
       "      <th>Deaths</th>\n",
       "      <th>Recovered</th>\n",
       "      <th>Active</th>\n",
       "      <th>geometry</th>\n",
       "      <th>log_Confirmed</th>\n",
       "      <th>log_Deaths</th>\n",
       "    </tr>\n",
       "  </thead>\n",
       "  <tbody>\n",
       "    <tr>\n",
       "      <th>20745</th>\n",
       "      <td>Zimbabwe</td>\n",
       "      <td>2020-04-09</td>\n",
       "      <td>11.0</td>\n",
       "      <td>3.0</td>\n",
       "      <td>0.0</td>\n",
       "      <td>0.0</td>\n",
       "      <td>POLYGON ((32.48888 -21.34445, 32.46541 -21.325...</td>\n",
       "      <td>1.041393</td>\n",
       "      <td>0.477121</td>\n",
       "    </tr>\n",
       "    <tr>\n",
       "      <th>20746</th>\n",
       "      <td>Zimbabwe</td>\n",
       "      <td>2020-04-10</td>\n",
       "      <td>13.0</td>\n",
       "      <td>3.0</td>\n",
       "      <td>0.0</td>\n",
       "      <td>0.0</td>\n",
       "      <td>POLYGON ((32.48888 -21.34445, 32.46541 -21.325...</td>\n",
       "      <td>1.113943</td>\n",
       "      <td>0.477121</td>\n",
       "    </tr>\n",
       "    <tr>\n",
       "      <th>20747</th>\n",
       "      <td>Zimbabwe</td>\n",
       "      <td>2020-04-11</td>\n",
       "      <td>14.0</td>\n",
       "      <td>3.0</td>\n",
       "      <td>0.0</td>\n",
       "      <td>0.0</td>\n",
       "      <td>POLYGON ((32.48888 -21.34445, 32.46541 -21.325...</td>\n",
       "      <td>1.146128</td>\n",
       "      <td>0.477121</td>\n",
       "    </tr>\n",
       "    <tr>\n",
       "      <th>20748</th>\n",
       "      <td>Zimbabwe</td>\n",
       "      <td>2020-04-12</td>\n",
       "      <td>14.0</td>\n",
       "      <td>3.0</td>\n",
       "      <td>0.0</td>\n",
       "      <td>0.0</td>\n",
       "      <td>POLYGON ((32.48888 -21.34445, 32.46541 -21.325...</td>\n",
       "      <td>1.146128</td>\n",
       "      <td>0.477121</td>\n",
       "    </tr>\n",
       "    <tr>\n",
       "      <th>20749</th>\n",
       "      <td>Zimbabwe</td>\n",
       "      <td>2020-04-13</td>\n",
       "      <td>17.0</td>\n",
       "      <td>3.0</td>\n",
       "      <td>0.0</td>\n",
       "      <td>0.0</td>\n",
       "      <td>POLYGON ((32.48888 -21.34445, 32.46541 -21.325...</td>\n",
       "      <td>1.230449</td>\n",
       "      <td>0.477121</td>\n",
       "    </tr>\n",
       "  </tbody>\n",
       "</table>\n",
       "</div>"
      ],
      "text/plain": [
       "        Country       Date  Confirmed  Deaths  Recovered  Active  \\\n",
       "20745  Zimbabwe 2020-04-09       11.0     3.0        0.0     0.0   \n",
       "20746  Zimbabwe 2020-04-10       13.0     3.0        0.0     0.0   \n",
       "20747  Zimbabwe 2020-04-11       14.0     3.0        0.0     0.0   \n",
       "20748  Zimbabwe 2020-04-12       14.0     3.0        0.0     0.0   \n",
       "20749  Zimbabwe 2020-04-13       17.0     3.0        0.0     0.0   \n",
       "\n",
       "                                                geometry  log_Confirmed  \\\n",
       "20745  POLYGON ((32.48888 -21.34445, 32.46541 -21.325...       1.041393   \n",
       "20746  POLYGON ((32.48888 -21.34445, 32.46541 -21.325...       1.113943   \n",
       "20747  POLYGON ((32.48888 -21.34445, 32.46541 -21.325...       1.146128   \n",
       "20748  POLYGON ((32.48888 -21.34445, 32.46541 -21.325...       1.146128   \n",
       "20749  POLYGON ((32.48888 -21.34445, 32.46541 -21.325...       1.230449   \n",
       "\n",
       "       log_Deaths  \n",
       "20745    0.477121  \n",
       "20746    0.477121  \n",
       "20747    0.477121  \n",
       "20748    0.477121  \n",
       "20749    0.477121  "
      ]
     },
     "execution_count": 46,
     "metadata": {},
     "output_type": "execute_result"
    }
   ],
   "source": [
    "final.tail()"
   ]
  },
  {
   "cell_type": "code",
   "execution_count": null,
   "metadata": {},
   "outputs": [],
   "source": []
  },
  {
   "cell_type": "code",
   "execution_count": null,
   "metadata": {},
   "outputs": [],
   "source": []
  },
  {
   "cell_type": "code",
   "execution_count": 47,
   "metadata": {},
   "outputs": [],
   "source": [
    "# Saving the dataframe to csv\n",
    "\n",
    "edited_master = final\n",
    "edited_master = edited_master.astype(object)\n",
    "edited_master.to_csv('edited_master.csv', encoding='utf-8', index=False)"
   ]
  },
  {
   "cell_type": "code",
   "execution_count": null,
   "metadata": {},
   "outputs": [],
   "source": []
  },
  {
   "cell_type": "code",
   "execution_count": 10,
   "metadata": {},
   "outputs": [],
   "source": []
  },
  {
   "cell_type": "markdown",
   "metadata": {},
   "source": [
    "## ---------------------------------------------------------------------------------------\n",
    "## Final data type changes\n",
    "## ---------------------------------------------------------------------------------------"
   ]
  },
  {
   "cell_type": "code",
   "execution_count": 62,
   "metadata": {},
   "outputs": [
    {
     "name": "stdout",
     "output_type": "stream",
     "text": [
      "<class 'geopandas.geodataframe.GeoDataFrame'>\n",
      "RangeIndex: 20750 entries, 0 to 20749\n",
      "Data columns (total 9 columns):\n",
      "Country          20750 non-null object\n",
      "Date             20750 non-null datetime64[ns]\n",
      "Confirmed        20750 non-null float64\n",
      "Deaths           20750 non-null float64\n",
      "Recovered        20750 non-null float64\n",
      "Active           20750 non-null float64\n",
      "geometry         20750 non-null geometry\n",
      "log_Confirmed    20750 non-null float64\n",
      "log_Deaths       20750 non-null float64\n",
      "dtypes: datetime64[ns](1), float64(6), geometry(1), object(1)\n",
      "memory usage: 1.4+ MB\n"
     ]
    }
   ],
   "source": [
    "# The geometry column is needed to plot the world map\n",
    "# But the data type should be geopandas.geometry type and not float\n",
    "# Converting the data-type to geometry\n",
    "\n",
    "# final['geometry'] = final['geometry'].apply(wkt.loads)\n",
    "\n",
    "\n",
    "# Converting from pandas dataframe to geopandas dataframe\n",
    "geometry = final.geometry\n",
    "crs = {'init': 'epsg:4326'}\n",
    "final = gpd.GeoDataFrame(final, crs=crs, geometry=geometry)\n",
    "final.info()"
   ]
  },
  {
   "cell_type": "code",
   "execution_count": null,
   "metadata": {},
   "outputs": [],
   "source": []
  },
  {
   "cell_type": "code",
   "execution_count": null,
   "metadata": {},
   "outputs": [],
   "source": []
  },
  {
   "cell_type": "code",
   "execution_count": null,
   "metadata": {},
   "outputs": [],
   "source": []
  },
  {
   "cell_type": "code",
   "execution_count": null,
   "metadata": {},
   "outputs": [],
   "source": []
  },
  {
   "cell_type": "markdown",
   "metadata": {},
   "source": [
    "## ---------------------------------------------------------------------------------------\n",
    "## Selecting test-dates for test-plotting\n",
    "## ---------------------------------------------------------------------------------------"
   ]
  },
  {
   "cell_type": "code",
   "execution_count": 53,
   "metadata": {},
   "outputs": [
    {
     "name": "stdout",
     "output_type": "stream",
     "text": [
      "        Date\n",
      "0 2020-01-22\n",
      "         Date\n",
      "29 2020-02-20\n",
      "         Date\n",
      "58 2020-03-20\n",
      "         Date\n",
      "82 2020-04-13\n"
     ]
    }
   ],
   "source": [
    "# Selecting specific dates from the date list\n",
    "\n",
    "print(date_list.loc[date_list.Date == '2020-01-22'])\n",
    "print(date_list.loc[date_list.Date == '2020-02-20'])\n",
    "print(date_list.loc[date_list.Date == '2020-03-20'])\n",
    "print(date_list.loc[date_list.Date == '2020-04-13'])"
   ]
  },
  {
   "cell_type": "code",
   "execution_count": 54,
   "metadata": {},
   "outputs": [],
   "source": [
    "date_list_test = date_list.iloc[[0, 29, 58, 82]]"
   ]
  },
  {
   "cell_type": "code",
   "execution_count": 55,
   "metadata": {},
   "outputs": [
    {
     "name": "stdout",
     "output_type": "stream",
     "text": [
      "<class 'pandas.core.frame.DataFrame'>\n",
      "Int64Index: 4 entries, 0 to 82\n",
      "Data columns (total 1 columns):\n",
      "Date    4 non-null datetime64[ns]\n",
      "dtypes: datetime64[ns](1)\n",
      "memory usage: 64.0 bytes\n"
     ]
    }
   ],
   "source": [
    "date_list_test.info()"
   ]
  },
  {
   "cell_type": "code",
   "execution_count": 56,
   "metadata": {},
   "outputs": [
    {
     "data": {
      "text/html": [
       "<div>\n",
       "<style scoped>\n",
       "    .dataframe tbody tr th:only-of-type {\n",
       "        vertical-align: middle;\n",
       "    }\n",
       "\n",
       "    .dataframe tbody tr th {\n",
       "        vertical-align: top;\n",
       "    }\n",
       "\n",
       "    .dataframe thead th {\n",
       "        text-align: right;\n",
       "    }\n",
       "</style>\n",
       "<table border=\"1\" class=\"dataframe\">\n",
       "  <thead>\n",
       "    <tr style=\"text-align: right;\">\n",
       "      <th></th>\n",
       "      <th>Date</th>\n",
       "    </tr>\n",
       "  </thead>\n",
       "  <tbody>\n",
       "    <tr>\n",
       "      <th>0</th>\n",
       "      <td>2020-01-22</td>\n",
       "    </tr>\n",
       "    <tr>\n",
       "      <th>1</th>\n",
       "      <td>2020-02-20</td>\n",
       "    </tr>\n",
       "    <tr>\n",
       "      <th>2</th>\n",
       "      <td>2020-03-20</td>\n",
       "    </tr>\n",
       "    <tr>\n",
       "      <th>3</th>\n",
       "      <td>2020-04-13</td>\n",
       "    </tr>\n",
       "  </tbody>\n",
       "</table>\n",
       "</div>"
      ],
      "text/plain": [
       "        Date\n",
       "0 2020-01-22\n",
       "1 2020-02-20\n",
       "2 2020-03-20\n",
       "3 2020-04-13"
      ]
     },
     "execution_count": 56,
     "metadata": {},
     "output_type": "execute_result"
    }
   ],
   "source": [
    "date_list_test.reset_index(drop=True, inplace=True)\n",
    "date_list_test.head()"
   ]
  },
  {
   "cell_type": "code",
   "execution_count": null,
   "metadata": {},
   "outputs": [],
   "source": []
  },
  {
   "cell_type": "code",
   "execution_count": null,
   "metadata": {},
   "outputs": [],
   "source": []
  },
  {
   "cell_type": "code",
   "execution_count": null,
   "metadata": {},
   "outputs": [],
   "source": []
  },
  {
   "cell_type": "markdown",
   "metadata": {},
   "source": [
    "## ---------------------------------------------------------------------------------------\n",
    "## Plotting the multiple maps for test-dates\n",
    "## ---------------------------------------------------------------------------------------"
   ]
  },
  {
   "cell_type": "code",
   "execution_count": 79,
   "metadata": {},
   "outputs": [
    {
     "data": {
      "image/png": "[encoded data removed]",
      "text/plain": [
       "<Figure size 2160x720 with 2 Axes>"
      ]
     },
     "metadata": {},
     "output_type": "display_data"
    }
   ],
   "source": [
    "image_no = 0\n",
    "vmin, vmax = 0, final.log_Confirmed[final.Date == '2020-04-13'].max()\n",
    "fig, ax = plt.subplots(1, figsize=(30, 10))\n",
    "variable = 'log_Confirmed'\n",
    "sm = plt.cm.ScalarMappable(cmap='OrRd', norm=plt.Normalize(vmin=vmin, vmax=vmax))\n",
    "sm.set_array([])\n",
    "fig.colorbar(sm, pad = 0.0001, shrink=0.5)\n",
    "\n",
    "\n",
    "for i in range(0, len(date_list_test)):   \n",
    "    date_for_mask = date_list_test.Date.values[i]\n",
    "    mask = (final['Date'] == date_for_mask)\n",
    "    my_map = final.loc[mask]\n",
    "    ax.axis('off')\n",
    "    fig.suptitle('log(CONFIRMED CASES) - COVID 19 <' + str(date_list_test.Date.dt.date.values[0]) + '>', fontsize=26, fontweight = 3)\n",
    "    my_map.plot(column=variable, cmap='OrRd', linewidth=0.8, ax=ax, edgecolor='0.8')\n",
    "    fig.savefig('WORLD_MAP_{image_no:04d}.png'.format(image_no=image_no), \n",
    "                dpi=300, bbox_inches='tight')\n",
    "    image_no +=1"
   ]
  },
  {
   "cell_type": "code",
   "execution_count": null,
   "metadata": {},
   "outputs": [],
   "source": []
  },
  {
   "cell_type": "code",
   "execution_count": null,
   "metadata": {},
   "outputs": [],
   "source": []
  }
 ],
 "metadata": {
  "kernelspec": {
   "display_name": "Python 3",
   "language": "python",
   "name": "python3"
  },
  "language_info": {
   "codemirror_mode": {
    "name": "ipython",
    "version": 3
   },
   "file_extension": ".py",
   "mimetype": "text/x-python",
   "name": "python",
   "nbconvert_exporter": "python",
   "pygments_lexer": "ipython3",
   "version": "3.7.4"
  }
 },
 "nbformat": 4,
 "nbformat_minor": 4
}
